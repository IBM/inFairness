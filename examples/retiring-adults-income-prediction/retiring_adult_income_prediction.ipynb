{
 "cells": [
  {
   "cell_type": "markdown",
   "metadata": {},
   "source": [
    "### ACSIncome - Retiring Adults experiment\n",
    "\n",
    "- **Task:** Predict whether US working adults' income is above $50,000 or not.\n",
    "- **Dataset:** [[2108.04884] Retiring Adult: New Datasets for Fair Machine Learning](https://arxiv.org/pdf/2108.04884)\n",
    "- **Models:**\n",
    "  - *network_standard:* 2-layer fully-connected network trained in a standard manner using the cross-entropy loss\n",
    "  - *network_fair:* 2-layer fully-connected network trained using the SenSeI individually fair algo with distance_x = Logistic regression metric and distance_y = Squared euclidean distance\n",
    "- **Metrics:**\n",
    "  - *Accuracy:* Percentage correct predictions of income in the test set\n",
    "  - *Balanced accuracy:* (true positive rate + true negative rate) / 2\n",
    "  - *Equal opportunity violation:* True positive rate for white group - True positive rate for black group\n",
    "- **Results:** \n",
    "  - Training a 2-layer FC network on data from California and testing it across all US states leads to unpredictable results"
   ]
  },
  {
   "cell_type": "code",
   "execution_count": 6,
   "metadata": {},
   "outputs": [],
   "source": [
    "# uncomment and install dependencies before continuing\n",
    "#!pip install inFairness folktables"
   ]
  },
  {
   "cell_type": "code",
   "execution_count": 1,
   "metadata": {},
   "outputs": [],
   "source": [
    "import sys, os\n",
    "sys.path.append(\"../../\")"
   ]
  },
  {
   "cell_type": "code",
   "execution_count": 22,
   "metadata": {},
   "outputs": [
    {
     "name": "stdout",
     "output_type": "stream",
     "text": [
      "The autoreload extension is already loaded. To reload it, use:\n",
      "  %reload_ext autoreload\n"
     ]
    }
   ],
   "source": [
    "import torch\n",
    "import torch.nn as nn\n",
    "import torch.nn.functional as F\n",
    "\n",
    "from torch.utils.data import Dataset\n",
    "from torch.utils.data import DataLoader\n",
    "\n",
    "from inFairness.fairalgo import SenSeI\n",
    "from inFairness import distances\n",
    "from inFairness.auditor import SenSRAuditor, SenSeIAuditor\n",
    "\n",
    "import matplotlib.pyplot as plt\n",
    "\n",
    "%load_ext autoreload\n",
    "%autoreload 2\n",
    "\n",
    "import RA_data\n",
    "import metrics"
   ]
  },
  {
   "cell_type": "code",
   "execution_count": 5,
   "metadata": {},
   "outputs": [],
   "source": [
    "protected_vars = [\"SEX\", \"RAC1P\"]\n",
    "train_data, test_data = RA_data.load_data(\"CA\", protected_vars)"
   ]
  },
  {
   "cell_type": "code",
   "execution_count": 6,
   "metadata": {},
   "outputs": [],
   "source": [
    "class AdultDataset(Dataset):\n",
    "    def __init__(self, data, labels, groups=None):\n",
    "        self.data = data\n",
    "        self.labels = labels\n",
    "        self.groups = groups\n",
    "\n",
    "    def __getitem__(self, idx):\n",
    "        data = self.data[idx]\n",
    "        label = self.labels[idx]\n",
    "        if self.groups is not None:\n",
    "            group = self.groups[idx]\n",
    "            return data, label, group\n",
    "        \n",
    "        return data, label\n",
    "    \n",
    "    def __len__(self):\n",
    "        return len(self.labels)"
   ]
  },
  {
   "cell_type": "code",
   "execution_count": 7,
   "metadata": {},
   "outputs": [],
   "source": [
    "device = torch.device(\"cpu\")\n",
    "\n",
    "# Create the training dataset\n",
    "X_train, X_train_protected, y_train = train_data\n",
    "train_ds =  AdultDataset(X_train, y_train)\n",
    "train_dl =  DataLoader(train_ds, batch_size=128, shuffle=True)"
   ]
  },
  {
   "cell_type": "code",
   "execution_count": 8,
   "metadata": {},
   "outputs": [],
   "source": [
    "def get_test_dl(state):\n",
    "    X_test, y_test, grp_test = test_data[state]\n",
    "    test_ds =  AdultDataset(X_test, y_test, grp_test)\n",
    "    test_dl = DataLoader(test_ds, batch_size=1000, shuffle=False)\n",
    "    return test_dl"
   ]
  },
  {
   "cell_type": "code",
   "execution_count": 9,
   "metadata": {},
   "outputs": [],
   "source": [
    "# Create a fully connected neural network\n",
    "\n",
    "class Model(nn.Module):\n",
    "\n",
    "    def __init__(self, input_size, output_size):\n",
    "\n",
    "        super().__init__()\n",
    "        self.fc1 = nn.Linear(input_size, 100)\n",
    "        self.fc2 = nn.Linear(100, 100)\n",
    "        self.fcout = nn.Linear(100, output_size)\n",
    "\n",
    "    def forward(self, x):\n",
    "\n",
    "        x = F.relu(self.fc1(x))\n",
    "        x = F.relu(self.fc2(x))\n",
    "        x = self.fcout(x)\n",
    "        return x"
   ]
  },
  {
   "cell_type": "markdown",
   "metadata": {},
   "source": [
    "### Standard training"
   ]
  },
  {
   "cell_type": "code",
   "execution_count": 10,
   "metadata": {},
   "outputs": [],
   "source": [
    "input_size = X_train.shape[1]\n",
    "output_size = 2\n",
    "\n",
    "network_standard = Model(input_size, output_size).to(device)\n",
    "optimizer = torch.optim.Adam(network_standard.parameters(), lr=1e-3)\n",
    "loss_fn = F.cross_entropy\n",
    "\n",
    "EPOCHS = 10"
   ]
  },
  {
   "cell_type": "code",
   "execution_count": 11,
   "metadata": {},
   "outputs": [
    {
     "name": "stdout",
     "output_type": "stream",
     "text": [
      "0 completed\n"
     ]
    }
   ],
   "source": [
    "network_standard.train()\n",
    "\n",
    "for epoch in range(EPOCHS):\n",
    "\n",
    "    for x, y in train_dl:\n",
    "\n",
    "        x, y = x.float().to(device), y.long().to(device)\n",
    "        optimizer.zero_grad()\n",
    "        y_pred = network_standard(x).squeeze()\n",
    "        loss = loss_fn(y_pred, y)\n",
    "        loss.backward()\n",
    "        optimizer.step()\n",
    "\n",
    "    if epoch % 10 == 0:\n",
    "        print(f'{epoch} completed')"
   ]
  },
  {
   "cell_type": "code",
   "execution_count": 12,
   "metadata": {},
   "outputs": [],
   "source": [
    "eval_metrics =  {\n",
    "    'states': [],\n",
    "    'acc': [],\n",
    "    'bacc': [],\n",
    "    'eqop': []\n",
    "}\n",
    "\n",
    "for state in test_data.keys():\n",
    "    testdl = get_test_dl(state)\n",
    "    acc = metrics.accuracy(network_standard, testdl, device)\n",
    "    bacc = metrics.balanced_accuracy(network_standard, testdl, device)\n",
    "    eq = metrics.equal_opportunity(network_standard, testdl, device)\n",
    "\n",
    "    eval_metrics['states'].append(state)\n",
    "    eval_metrics['acc'].append(acc)\n",
    "    eval_metrics['bacc'].append(bacc)\n",
    "    eval_metrics['eqop'].append(eq)"
   ]
  },
  {
   "cell_type": "code",
   "execution_count": 13,
   "metadata": {},
   "outputs": [
    {
     "data": {
      "image/png": "[encoded data removed]",
      "text/plain": [
       "<Figure size 432x432 with 1 Axes>"
      ]
     },
     "metadata": {
      "needs_background": "light"
     },
     "output_type": "display_data"
    }
   ],
   "source": [
    "x = eval_metrics['bacc']\n",
    "y = eval_metrics['eqop']\n",
    "c = ['blue' if eval_metrics['states'][idx] != 'CA' else 'orange' for idx in range(len(eval_metrics['states']))]\n",
    "\n",
    "\n",
    "plt.figure(figsize=(6, 6))\n",
    "plt.scatter(x, y, c=c)\n",
    "plt.grid(alpha=0.5)\n",
    "plt.xlabel('Balanced accuracy', fontsize=14)\n",
    "plt.ylabel('Equal Opportunity Violation', fontsize=14)\n",
    "plt.show()"
   ]
  },
  {
   "cell_type": "markdown",
   "metadata": {},
   "source": [
    "### Individually fair training"
   ]
  },
  {
   "cell_type": "code",
   "execution_count": 14,
   "metadata": {},
   "outputs": [],
   "source": [
    "network_fair = Model(input_size, output_size).to(device)\n",
    "optimizer = torch.optim.Adam(network_fair.parameters(), lr=1e-3)\n",
    "lossfn = F.cross_entropy\n",
    "\n",
    "distance_x = distances.LogisticRegSensitiveSubspace()\n",
    "distance_y = distances.SquaredEuclideanDistance()\n",
    "\n",
    "distance_x.fit(X_train, data_SensitiveAttrs=X_train_protected)\n",
    "distance_y.fit(num_dims=output_size)\n",
    "\n",
    "distance_x.to(device)\n",
    "distance_y.to(device)"
   ]
  },
  {
   "cell_type": "code",
   "execution_count": 15,
   "metadata": {},
   "outputs": [],
   "source": [
    "rho = 5.0\n",
    "eps = 0.1\n",
    "auditor_nsteps = 100\n",
    "auditor_lr = 1e-3\n",
    "\n",
    "fairalgo = SenSeI(network_fair, distance_x, distance_y, lossfn, rho, eps, auditor_nsteps, auditor_lr)"
   ]
  },
  {
   "cell_type": "code",
   "execution_count": 16,
   "metadata": {},
   "outputs": [
    {
     "name": "stdout",
     "output_type": "stream",
     "text": [
      "0 completed\n"
     ]
    }
   ],
   "source": [
    "fairalgo.train()\n",
    "\n",
    "for epoch in range(EPOCHS):\n",
    "    for x, y in train_dl:\n",
    "        x, y = x.to(device), y.to(device)\n",
    "        optimizer.zero_grad()\n",
    "        result = fairalgo(x, y)\n",
    "        result.loss.backward()\n",
    "        optimizer.step()\n",
    "    \n",
    "    if epoch % 10 == 0:\n",
    "        print(f'{epoch} completed')"
   ]
  },
  {
   "cell_type": "code",
   "execution_count": 17,
   "metadata": {},
   "outputs": [],
   "source": [
    "fair_eval_metrics =  {\n",
    "    'states': [],\n",
    "    'acc': [],\n",
    "    'bacc': [],\n",
    "    'eqop': []\n",
    "}\n",
    "\n",
    "for state in test_data.keys():\n",
    "    testdl = get_test_dl(state)\n",
    "    acc = metrics.accuracy(network_fair, testdl, device)\n",
    "    bacc = metrics.balanced_accuracy(network_fair, testdl, device)\n",
    "    eq = metrics.equal_opportunity(network_fair, testdl, device)\n",
    "\n",
    "    fair_eval_metrics['states'].append(state)\n",
    "    fair_eval_metrics['acc'].append(acc)\n",
    "    fair_eval_metrics['bacc'].append(bacc)\n",
    "    fair_eval_metrics['eqop'].append(eq)"
   ]
  },
  {
   "cell_type": "code",
   "execution_count": 18,
   "metadata": {},
   "outputs": [
    {
     "data": {
      "image/png": "[encoded data removed]",
      "text/plain": [
       "<Figure size 432x432 with 1 Axes>"
      ]
     },
     "metadata": {
      "needs_background": "light"
     },
     "output_type": "display_data"
    }
   ],
   "source": [
    "x = fair_eval_metrics['bacc']\n",
    "y = fair_eval_metrics['eqop']\n",
    "c = ['blue' if fair_eval_metrics['states'][idx] != 'CA' else 'orange' for idx in range(len(fair_eval_metrics['states']))]\n",
    "\n",
    "\n",
    "plt.figure(figsize=(6, 6))\n",
    "plt.scatter(x, y, c=c)\n",
    "plt.grid(alpha=0.5)\n",
    "plt.xlabel('Balanced accuracy', fontsize=14)\n",
    "plt.ylabel('Equal Opportunity Violation', fontsize=14)\n",
    "plt.show()"
   ]
  },
  {
   "cell_type": "markdown",
   "metadata": {},
   "source": [
    "#### Let's now audit the two models and check for their individua fairness compliance"
   ]
  },
  {
   "cell_type": "code",
   "execution_count": 21,
   "metadata": {},
   "outputs": [
    {
     "name": "stdout",
     "output_type": "stream",
     "text": [
      "====================================================================================================\n",
      "Loss ratio (Standard model) : 1.4647548315461059. Is model fair: False\n",
      "Loss ratio (fair model) : 1.1409702763735605. Is model fair: True\n",
      "----------------------------------------------------------------------------------------------------\n",
      "\t As signified by these numbers, the fair model is fairer than the standard model\n",
      "====================================================================================================\n"
     ]
    }
   ],
   "source": [
    "# Auditing using the SenSR Auditor\n",
    "\n",
    "audit_nsteps = 1000\n",
    "audit_lr = 0.1\n",
    "\n",
    "auditor = SenSRAuditor(loss_fn=loss_fn, distance_x=distance_x, num_steps=audit_nsteps, lr=audit_lr, max_noise=0.5, min_noise=-0.5)\n",
    "\n",
    "X_test, y_test, _ = test_data[\"CA\"]\n",
    "audit_result_stdmodel = auditor.audit(network_standard, X_test, y_test, lambda_param=10.0, audit_threshold=1.15)\n",
    "audit_result_fairmodel = auditor.audit(network_fair, X_test, y_test, lambda_param=10.0, audit_threshold=1.15)\n",
    "\n",
    "print(\"=\"*100)\n",
    "print(f\"Loss ratio (Standard model) : {audit_result_stdmodel.lower_bound}. Is model fair: {audit_result_stdmodel.is_model_fair}\")\n",
    "print(f\"Loss ratio (fair model) : {audit_result_fairmodel.lower_bound}. Is model fair: {audit_result_fairmodel.is_model_fair}\")\n",
    "print(\"-\"*100)\n",
    "print(\"\\t As signified by these numbers, the fair model is fairer than the standard model\")\n",
    "print(\"=\"*100)"
   ]
  },
  {
   "cell_type": "code",
   "execution_count": 23,
   "metadata": {},
   "outputs": [
    {
     "name": "stdout",
     "output_type": "stream",
     "text": [
      "====================================================================================================\n",
      "Loss ratio (Standard model) : 25584951.625639636. Is model fair: False\n",
      "Loss ratio (fair model) : 41094.68053808146. Is model fair: False\n",
      "----------------------------------------------------------------------------------------------------\n",
      "\t As signified by these numbers, the fair model is fairer than the standard model\n",
      "====================================================================================================\n"
     ]
    }
   ],
   "source": [
    "# Auditing using the SenSeI Auditor\n",
    "\n",
    "audit_nsteps = 500\n",
    "audit_lr = 0.001\n",
    "\n",
    "auditor = SenSeIAuditor(distance_x=distance_x, distance_y=distance_y, num_steps=audit_nsteps, lr=audit_lr, max_noise=0.5, min_noise=-0.5)\n",
    "\n",
    "X_test, y_test, _ = test_data[\"CA\"]\n",
    "audit_result_stdmodel = auditor.audit(network_standard, X_test, y_test, loss_fn, audit_threshold=1.15, lambda_param=50.0)\n",
    "audit_result_fairmodel = auditor.audit(network_fair, X_test, y_test, loss_fn, audit_threshold=1.15, lambda_param=50.0)\n",
    "\n",
    "print(\"=\"*100)\n",
    "print(f\"Loss ratio (Standard model) : {audit_result_stdmodel.lower_bound}. Is model fair: {audit_result_stdmodel.is_model_fair}\")\n",
    "print(f\"Loss ratio (fair model) : {audit_result_fairmodel.lower_bound}. Is model fair: {audit_result_fairmodel.is_model_fair}\")\n",
    "print(\"-\"*100)\n",
    "print(\"\\t As signified by these numbers, the fair model is fairer than the standard model\")\n",
    "print(\"=\"*100)"
   ]
  },
  {
   "cell_type": "code",
   "execution_count": null,
   "metadata": {},
   "outputs": [],
   "source": []
  }
 ],
 "metadata": {
  "kernelspec": {
   "display_name": "Python 3.8.12 ('ifair')",
   "language": "python",
   "name": "python3"
  },
  "language_info": {
   "codemirror_mode": {
    "name": "ipython",
    "version": 3
   },
   "file_extension": ".py",
   "mimetype": "text/x-python",
   "name": "python",
   "nbconvert_exporter": "python",
   "pygments_lexer": "ipython3",
   "version": "3.8.12"
  },
  "vscode": {
   "interpreter": {
    "hash": "156342c228d20e58ce7cd9e5b574488eecbc2afacc7bf513520709afd3d2f951"
   }
  }
 },
 "nbformat": 4,
 "nbformat_minor": 4
}
