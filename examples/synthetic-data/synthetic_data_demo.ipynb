{
 "cells": [
  {
   "cell_type": "markdown",
   "metadata": {},
   "source": [
    "## Imports and path adjustments"
   ]
  },
  {
   "cell_type": "code",
   "execution_count": 1,
   "metadata": {},
   "outputs": [],
   "source": [
    "%reload_ext autoreload\n",
    "%autoreload 2"
   ]
  },
  {
   "cell_type": "code",
   "execution_count": 2,
   "metadata": {},
   "outputs": [],
   "source": [
    "import sys\n",
    "sys.path.append(\"../../\")"
   ]
  },
  {
   "cell_type": "code",
   "execution_count": 3,
   "metadata": {},
   "outputs": [],
   "source": [
    "import numpy as np\n",
    "import matplotlib.pyplot as plt\n",
    "import seaborn as sns\n",
    "\n",
    "import torch\n",
    "import torch.nn as nn\n",
    "import torch.nn.functional as F\n",
    "from torch.utils.data.sampler import RandomSampler, BatchSampler\n",
    "from sklearn.preprocessing import OneHotEncoder\n",
    "\n",
    "from inFairness.fairalgo import SenSeI\n",
    "from inFairness.distances import ProtectedEuclideanDistance, EuclideanDistance\n",
    "\n",
    "from trainer import Trainer"
   ]
  },
  {
   "cell_type": "code",
   "execution_count": 4,
   "metadata": {},
   "outputs": [
    {
     "data": {
      "text/plain": [
       "<torch._C.Generator at 0x7faeaaf23130>"
      ]
     },
     "execution_count": 4,
     "metadata": {},
     "output_type": "execute_result"
    }
   ],
   "source": [
    "np.random.seed(42)\n",
    "torch.manual_seed(42)"
   ]
  },
  {
   "cell_type": "markdown",
   "metadata": {},
   "source": [
    "## Utility functions to generate synthetic data and build dataloaders"
   ]
  },
  {
   "cell_type": "code",
   "execution_count": 5,
   "metadata": {},
   "outputs": [],
   "source": [
    "def gen_synthetic_dataset(alphaMin=0.1, n=200, seed=0):\n",
    "    muMin = np.array([1.5, 0])\n",
    "    muMaj = np.array([-1.5, 0])\n",
    "    wMin = np.array([1.5, np.sqrt(8) / 3])\n",
    "    wMaj = np.array([-1.5, np.sqrt(8) / 3])\n",
    "\n",
    "    d = 2\n",
    "    sigma = 0.5\n",
    "\n",
    "    np.random.seed(seed)\n",
    "    X = np.random.normal(0, scale=sigma, size=(n, d)).astype(np.float32)\n",
    "    z = np.random.choice([False, True], size=n, p=[alphaMin, 1 - alphaMin])\n",
    "    X[z, :] = X[z, :] + muMaj\n",
    "    X[~z, :] = X[~z, :] + muMin\n",
    "    y = np.zeros(n, dtype=np.float32)\n",
    "    #    noise = np.random.normal(size = n)\n",
    "    noise = np.zeros(n)\n",
    "    y[z] = np.sign(np.dot(X[z, :], wMaj) - np.dot(wMaj, muMaj) + noise[z])\n",
    "    y[~z] = np.sign(np.dot(X[~z, :], wMin) - np.dot(wMin, muMin) + noise[~z])\n",
    "\n",
    "    one_hot = OneHotEncoder(sparse=False, categories=\"auto\")\n",
    "    one_hot.fit(np.array(y).reshape(-1, 1))\n",
    "    y_hot = one_hot.transform(np.array(y).reshape(-1, 1)).astype(np.float32)\n",
    "\n",
    "    # will not use one hots as it is not the usual in\n",
    "\n",
    "    return [{\"X\": X[i], \"Y\": y_hot[i], \"Z\": z[i]} for i in range(n)]"
   ]
  },
  {
   "cell_type": "code",
   "execution_count": 6,
   "metadata": {},
   "outputs": [],
   "source": [
    "def build_train_loader(dataset, batch_size):\n",
    "    sampler = RandomSampler(data_source=dataset)\n",
    "    batch_sampler = BatchSampler(\n",
    "        sampler, batch_size, drop_last=True\n",
    "    )\n",
    "    return torch.utils.data.DataLoader(\n",
    "        dataset,\n",
    "        batch_sampler=batch_sampler,\n",
    "    )"
   ]
  },
  {
   "cell_type": "markdown",
   "metadata": {},
   "source": [
    "## Create dataset, dataloader and base model"
   ]
  },
  {
   "cell_type": "code",
   "execution_count": 7,
   "metadata": {},
   "outputs": [],
   "source": [
    "dataset = gen_synthetic_dataset()\n",
    "dataloader = build_train_loader(dataset, batch_size=8)"
   ]
  },
  {
   "cell_type": "code",
   "execution_count": 8,
   "metadata": {},
   "outputs": [],
   "source": [
    "class Model(nn.Module):\n",
    "\n",
    "    def __init__(self):\n",
    "\n",
    "        super().__init__()\n",
    "        self.fc1 = nn.Linear(2, 10)\n",
    "        self.fc2 = nn.Linear(10, 10)\n",
    "        self.fc3 = nn.Linear(10, 2)\n",
    "\n",
    "    def forward(self, x):\n",
    "        x = F.relu(self.fc1(x))\n",
    "        x = F.relu(self.fc2(x))\n",
    "        x = self.fc3(x)\n",
    "        return x\n",
    "\n",
    "network = Model()\n",
    "optimizer = torch.optim.Adam(network.parameters(), lr=1e-3)"
   ]
  },
  {
   "cell_type": "markdown",
   "metadata": {},
   "source": [
    "## Define distance metrics and fairalgo for fairness calculations"
   ]
  },
  {
   "cell_type": "code",
   "execution_count": 9,
   "metadata": {},
   "outputs": [],
   "source": [
    "distance_x = ProtectedEuclideanDistance()\n",
    "distance_x.fit(protected_attributes=[0], num_attributes=2)\n",
    "\n",
    "distance_y = EuclideanDistance()\n",
    "# We don't need to fit this particular metric since it does not have any parameters.\n",
    "# But we do so to maintain uniformity.\n",
    "distance_y.fit()\n",
    "\n",
    "loss = F.mse_loss"
   ]
  },
  {
   "cell_type": "code",
   "execution_count": 10,
   "metadata": {},
   "outputs": [],
   "source": [
    "rho = 0.01\n",
    "eps = 5.0\n",
    "auditor_nsteps = 100\n",
    "auditor_lr = 0.1\n",
    "\n",
    "fairalgo = SenSeI(\n",
    "    network, distance_x, distance_y, loss, rho, eps, auditor_nsteps, auditor_lr\n",
    ")"
   ]
  },
  {
   "cell_type": "markdown",
   "metadata": {},
   "source": [
    "## Train the model for specified iterations"
   ]
  },
  {
   "cell_type": "code",
   "execution_count": 11,
   "metadata": {},
   "outputs": [],
   "source": [
    "max_iterations = 1000\n",
    "\n",
    "trainer = Trainer(\n",
    "    dataloader, fairalgo, optimizer, max_iterations\n",
    ")"
   ]
  },
  {
   "cell_type": "code",
   "execution_count": 12,
   "metadata": {},
   "outputs": [],
   "source": [
    "trainer.train()"
   ]
  },
  {
   "cell_type": "markdown",
   "metadata": {},
   "source": [
    "## Visualize the results"
   ]
  },
  {
   "cell_type": "code",
   "execution_count": 13,
   "metadata": {},
   "outputs": [
    {
     "data": {
      "text/plain": [
       "<AxesSubplot:>"
      ]
     },
     "execution_count": 13,
     "metadata": {},
     "output_type": "execute_result"
    },
    {
     "data": {
      "image/png": "[encoded data removed]",
      "text/plain": [
       "<Figure size 432x288 with 1 Axes>"
      ]
     },
     "metadata": {
      "needs_background": "light"
     },
     "output_type": "display_data"
    }
   ],
   "source": [
    "data_x = np.array([dataset[i]['X'] for i in range(len(dataset))])\n",
    "data_y = np.array([np.argmax(dataset[i]['Y']) for i in range(len(dataset))])\n",
    "\n",
    "network.eval()\n",
    "range_x = np.linspace(-3,3,num=100).astype(np.float32)\n",
    "range_y = np.linspace(-1.5,1.5, num= 100).astype(np.float32)\n",
    "xx, yy = np.meshgrid(range_x, range_y, sparse=False)\n",
    "y_pred = []\n",
    "\n",
    "for i in range(100):\n",
    "    x = xx[i].reshape(-1, 1)\n",
    "    y = yy[i].reshape(-1, 1)\n",
    "    x_test = np.hstack([x, y])\n",
    "    y_pred.append(network(torch.Tensor(x_test)).detach().numpy()[:, 0])\n",
    "\n",
    "y_pred = np.array(y_pred)\n",
    "plt.contourf(range_x, range_y, y_pred)\n",
    "sns.scatterplot(x=data_x[:,0], y=data_x[:,1], hue=data_y)"
   ]
  },
  {
   "cell_type": "code",
   "execution_count": null,
   "metadata": {},
   "outputs": [],
   "source": []
  }
 ],
 "metadata": {
  "interpreter": {
   "hash": "114c7111518b71e301f2558e184107be84a65721601794f72eba483abe0100e0"
  },
  "kernelspec": {
   "display_name": "ifair",
   "language": "python",
   "name": "ifair"
  },
  "language_info": {
   "codemirror_mode": {
    "name": "ipython",
    "version": 3
   },
   "file_extension": ".py",
   "mimetype": "text/x-python",
   "name": "python",
   "nbconvert_exporter": "python",
   "pygments_lexer": "ipython3",
   "version": "3.8.12"
  }
 },
 "nbformat": 4,
 "nbformat_minor": 4
}
