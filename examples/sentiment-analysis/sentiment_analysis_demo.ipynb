{
 "cells": [
  {
   "cell_type": "markdown",
   "metadata": {},
   "source": [
    "### Sentiment Classification experiment\n",
    "\n",
    "#### Objectives:\n",
    "1. Ideally, a sentiment classifier should assign a neutral sentiment to a persons name. Jack should not be classified any more positive sentiment than say, Lamar.\n",
    "2. This is not what we observe with standard trained deep neural networks though\n",
    "3. In this notebook, we first show that models trained in a standard manner assign positive sentiment to predominantly European-American names as compared to predominantly African-American names.\n",
    "4. We then train the same model using Individual Fairness, to reduce this sentiment gap between names from different ethnicities.\n",
    "\n",
    "\n",
    "#### Steps:\n",
    "1. Download data from http://www.cs.uic.edu/~liub/FBS/opinion-lexicon-English.rar into the `data` folder\n",
    "2. Extract the contents of the rar file into the `data/opinion-lexicon-English` folder\n",
    "3. Download the Common Crawl (42B tokens) GloVe word embeddings from https://nlp.stanford.edu/projects/glove/ and place in the `data/embeddings` folder\n",
    "4. Download the NYC Popular Baby names from https://data.cityofnewyork.us/w/25th-nujf/25te-f2tw?cur=2SqHSlbYnOB&from=root in the folder `data/names`"
   ]
  },
  {
   "cell_type": "code",
   "execution_count": 1,
   "metadata": {},
   "outputs": [],
   "source": [
    "# uncomment and install dependencies before continuing\n",
    "#!pip install inFairness matplotlib seaborn tqdm"
   ]
  },
  {
   "cell_type": "markdown",
   "metadata": {},
   "source": [
    "### Step 1: We start the experiment by importing relevant PyTorch and inFairness packages. \n",
    " \n",
    "- From inFairness, we only need the SenSeI fair algorithm, and the distances module"
   ]
  },
  {
   "cell_type": "code",
   "execution_count": 3,
   "metadata": {},
   "outputs": [],
   "source": [
    "import torch\n",
    "import torch.nn as nn\n",
    "import torch.nn.functional as F\n",
    "\n",
    "from torch.utils.data import Dataset\n",
    "from torch.utils.data import DataLoader\n",
    "\n",
    "from tqdm.notebook import tqdm\n",
    "\n",
    "from inFairness.fairalgo import SenSeI\n",
    "from inFairness import distances\n",
    "from inFairness.auditor import SenSRAuditor\n",
    "\n",
    "import pandas as pd\n",
    "# Import data loading script\n",
    "%load_ext autoreload\n",
    "%autoreload 2\n",
    "import data"
   ]
  },
  {
   "cell_type": "markdown",
   "metadata": {},
   "source": [
    "### Step 2: Loading the data\n",
    "\n",
    "1. We require the GloVe 42B token word embeddings to embed our names\n",
    "2. The `opinion=lexicon-English` data will serve as our training data with examples of positive and negative sentiment words, and\n",
    "3. The `NYC popular baby names` will be used by the inFairness distance metric to ignore the name subspace"
   ]
  },
  {
   "cell_type": "code",
   "execution_count": 4,
   "metadata": {},
   "outputs": [],
   "source": [
    "DATAPATH = 'data/opinion-lexicon-English'\n",
    "EMBEDPATH = 'data/embeddings/glove.42B.300d.txt'\n",
    "NYC_NAMES_PATH = 'data/names/Popular_Baby_Names.csv'\n",
    "\n",
    "\n",
    "# Load data and embeddings\n",
    "embeddings, X_train, X_test, y_train, y_test, train_vocab, test_vocab = data.load_data(DATAPATH, EMBEDPATH)\n",
    "\n",
    "# Load test names and their embeddings\n",
    "test_df, test_names_embed = data.load_test_names(embeddings)\n",
    "\n",
    "# Load popular NYC Baby names and their embeddings\n",
    "# This data is used to train the subspace robustness metric\n",
    "nyc_names_embed = data.load_nyc_names(NYC_NAMES_PATH, embeddings)"
   ]
  },
  {
   "cell_type": "markdown",
   "metadata": {},
   "source": [
    "While our training data contains words with positive and negative sentiments, we use two test datasets:\n",
    "\n",
    "1. The first test dataset is a collection of a broader set of words that we will use to compute accuracy, and\n",
    "2. A set of names along with the race and gender they are predominantly associated with. Utilizing the race and gender will allow us to study the performance of the sentiment classifier for these different groups."
   ]
  },
  {
   "cell_type": "code",
   "execution_count": 5,
   "metadata": {},
   "outputs": [
    {
     "name": "stdout",
     "output_type": "stream",
     "text": [
      "Test set used for accuracy computation is of size: (663,)\n",
      "Test set with names and associated race and gender is of size: 94\n",
      "Some samples from the names test set are:\n"
     ]
    },
    {
     "data": {
      "text/html": [
       "<div>\n",
       "<style scoped>\n",
       "    .dataframe tbody tr th:only-of-type {\n",
       "        vertical-align: middle;\n",
       "    }\n",
       "\n",
       "    .dataframe tbody tr th {\n",
       "        vertical-align: top;\n",
       "    }\n",
       "\n",
       "    .dataframe thead th {\n",
       "        text-align: right;\n",
       "    }\n",
       "</style>\n",
       "<table border=\"1\" class=\"dataframe\">\n",
       "  <thead>\n",
       "    <tr style=\"text-align: right;\">\n",
       "      <th></th>\n",
       "      <th>name</th>\n",
       "      <th>race</th>\n",
       "      <th>gender</th>\n",
       "    </tr>\n",
       "  </thead>\n",
       "  <tbody>\n",
       "    <tr>\n",
       "      <th>0</th>\n",
       "      <td>adam</td>\n",
       "      <td>White</td>\n",
       "      <td>Male</td>\n",
       "    </tr>\n",
       "    <tr>\n",
       "      <th>1</th>\n",
       "      <td>chip</td>\n",
       "      <td>White</td>\n",
       "      <td>Male</td>\n",
       "    </tr>\n",
       "    <tr>\n",
       "      <th>2</th>\n",
       "      <td>harry</td>\n",
       "      <td>White</td>\n",
       "      <td>Male</td>\n",
       "    </tr>\n",
       "    <tr>\n",
       "      <th>3</th>\n",
       "      <td>josh</td>\n",
       "      <td>White</td>\n",
       "      <td>Male</td>\n",
       "    </tr>\n",
       "    <tr>\n",
       "      <th>4</th>\n",
       "      <td>roger</td>\n",
       "      <td>White</td>\n",
       "      <td>Male</td>\n",
       "    </tr>\n",
       "  </tbody>\n",
       "</table>\n",
       "</div>"
      ],
      "text/plain": [
       "    name   race gender\n",
       "0   adam  White   Male\n",
       "1   chip  White   Male\n",
       "2  harry  White   Male\n",
       "3   josh  White   Male\n",
       "4  roger  White   Male"
      ]
     },
     "execution_count": 5,
     "metadata": {},
     "output_type": "execute_result"
    }
   ],
   "source": [
    "print(f'Test set used for accuracy computation is of size: {y_test.shape}')\n",
    "print(f'Test set with names and associated race and gender is of size: {len(test_df)}')\n",
    "print('Some samples from the names test set are:')\n",
    "test_df.head()"
   ]
  },
  {
   "cell_type": "markdown",
   "metadata": {},
   "source": [
    "### Step 3: Let's create our PyTorch dataloader and also create a 2-layer fully connected neural network"
   ]
  },
  {
   "cell_type": "code",
   "execution_count": 6,
   "metadata": {},
   "outputs": [],
   "source": [
    "class SentimentDataset(Dataset):\n",
    "    def __init__(self, data, labels):\n",
    "        \n",
    "        self.data = data\n",
    "        self.labels = labels\n",
    "\n",
    "    def __getitem__(self, idx):\n",
    "        data = self.data[idx]\n",
    "        label = self.labels[idx]\n",
    "        return data, label\n",
    "\n",
    "    def __len__(self):\n",
    "        return len(self.labels)\n",
    "\n",
    "\n",
    "# Create the training and testing dataset\n",
    "train_ds = SentimentDataset(X_train, y_train)\n",
    "test_ds = SentimentDataset(X_test, y_test)\n",
    "\n",
    "# Create train and test dataloaders\n",
    "train_dl = DataLoader(train_ds, batch_size=64)\n",
    "test_dl = DataLoader(test_ds, batch_size=1000)"
   ]
  },
  {
   "cell_type": "code",
   "execution_count": 7,
   "metadata": {},
   "outputs": [],
   "source": [
    "# Create a 2-layer fully connected neural network\n",
    "\n",
    "class Model(nn.Module):\n",
    "\n",
    "    def __init__(self):\n",
    "\n",
    "        super().__init__()\n",
    "        self.fc1 = nn.Linear(300, 1000)\n",
    "        self.fcout = nn.Linear(1000, 2)\n",
    "\n",
    "    def forward(self, x):\n",
    "\n",
    "        x = F.relu(self.fc1(x))\n",
    "        x = self.fcout(x)\n",
    "        return x"
   ]
  },
  {
   "cell_type": "markdown",
   "metadata": {},
   "source": [
    "### Step 4: Let's train a sentiment classifier in a standard manner, and evaluate it's accuracy"
   ]
  },
  {
   "cell_type": "code",
   "execution_count": 8,
   "metadata": {},
   "outputs": [],
   "source": [
    "device = torch.device(\"cpu\")\n",
    "\n",
    "network_standard = Model().to(device)\n",
    "optimizer = torch.optim.Adam(network_standard.parameters(), lr=1e-3)\n",
    "loss_fn = nn.CrossEntropyLoss()\n",
    "\n",
    "EPOCHS = 50"
   ]
  },
  {
   "cell_type": "code",
   "execution_count": 9,
   "metadata": {},
   "outputs": [
    {
     "data": {
      "application/vnd.jupyter.widget-view+json": {
       "model_id": "fe67e8a3ffd44ad4b74b0d24a8f3a65f",
       "version_major": 2,
       "version_minor": 0
      },
      "text/plain": [
       "  0%|          | 0/50 [00:00<?, ?it/s]"
      ]
     },
     "metadata": {},
     "output_type": "display_data"
    }
   ],
   "source": [
    "network_standard.train()\n",
    "\n",
    "for epoch in tqdm(range(EPOCHS)):\n",
    "\n",
    "    for x, y in train_dl:\n",
    "        x, y = x.to(device), y.to(device)\n",
    "        optimizer.zero_grad()\n",
    "        y_pred = network_standard(x)\n",
    "        loss = loss_fn(y_pred, y)\n",
    "        loss.backward()\n",
    "        optimizer.step()"
   ]
  },
  {
   "cell_type": "code",
   "execution_count": 10,
   "metadata": {},
   "outputs": [
    {
     "name": "stdout",
     "output_type": "stream",
     "text": [
      "Accuracy: 93.81598793363499\n"
     ]
    }
   ],
   "source": [
    "# Evaluate the model by computing its accuracy\n",
    "network_standard.eval()\n",
    "\n",
    "corr, total = 0, 0\n",
    "\n",
    "for x, y in test_dl:\n",
    "    x = x.to(device)\n",
    "    y_pred = network_standard(x)\n",
    "    y_pred = torch.argmax(y_pred.detach().cpu(), dim=-1)\n",
    "\n",
    "    total += y.shape[0]\n",
    "    corr += (y == y_pred).sum().numpy()\n",
    "\n",
    "acc = corr * 100.0/float(total)\n",
    "print(f'Accuracy: {acc}')"
   ]
  },
  {
   "cell_type": "markdown",
   "metadata": {},
   "source": [
    "#### The sentiment classifier network achieves ~94% accuracy, which is impressive. However, when analyzed for variances in prediction between races and genders, the model presents glaring differences.\n",
    "\n",
    "- Let's evaluate the difference in sentiment scores for predominantly white and black names, and male and female names"
   ]
  },
  {
   "cell_type": "code",
   "execution_count": 11,
   "metadata": {},
   "outputs": [
    {
     "name": "stdout",
     "output_type": "stream",
     "text": [
      "baseline test accuracy 93.815988\n",
      "baseline Black mean sentiment is 0.350054\n",
      "baseline White mean sentiment is 0.832151\n",
      "baseline race mean sentiment difference is 0.482097\n",
      "\n",
      "baseline Female mean sentiment is 0.728495\n",
      "baseline Male mean sentiment is 0.479522\n",
      "baseline gender mean sentiment difference is 0.248973\n",
      "\n"
     ]
    },
    {
     "data": {
      "image/png": "[encoded data removed]",
      "text/plain": [
       "<Figure size 864x432 with 2 Axes>"
      ]
     },
     "metadata": {
      "needs_background": "light"
     },
     "output_type": "display_data"
    }
   ],
   "source": [
    "test_names_embed_torch = torch.FloatTensor(test_names_embed).to(device)\n",
    "\n",
    "test_logits = network_standard(test_names_embed_torch)\n",
    "test_logits = F.softmax(test_logits, dim=-1)\n",
    "test_logits = test_logits.data.cpu().numpy()\n",
    "\n",
    "test_df['baseline_logits'] = test_logits[:, 1]# - test_logits[:, 0]\n",
    "\n",
    "data.print_summary(test_df, 'baseline', acc)"
   ]
  },
  {
   "cell_type": "markdown",
   "metadata": {},
   "source": [
    "#### Now let's experiment with how the sentiment changes for sentences with different cuisines and names. Notice that while the only words changing between sentences are the cuisine and name, the sentiment of the sentence varies significantly."
   ]
  },
  {
   "cell_type": "code",
   "execution_count": 12,
   "metadata": {},
   "outputs": [
    {
     "name": "stdout",
     "output_type": "stream",
     "text": [
      "Let's go get Italian food --> Positive with score 99.86%\n",
      "Let's go get Chinese food --> Positive with score 98.78%\n",
      "Let's go get Mexican food --> Positive with score 91.20%\n"
     ]
    }
   ],
   "source": [
    "sentences = [\"Let's go get Italian food\", \"Let's go get Chinese food\", \"Let's go get Mexican food\"]\n",
    "\n",
    "for sentence in sentences:\n",
    "    sentiment  = data.text_to_sentiment(sentence, network_standard, embeddings, device)\n",
    "    print(f'{sentence} --> {data.format_sentiment_score(sentiment)}')"
   ]
  },
  {
   "cell_type": "code",
   "execution_count": 13,
   "metadata": {},
   "outputs": [
    {
     "name": "stdout",
     "output_type": "stream",
     "text": [
      "My name is Emily --> Positive with score 99.74%\n",
      "My name is Heather --> Positive with score 99.61%\n",
      "My name is Yvette --> Positive with score 97.40%\n",
      "My name is Shaniqua --> Positive with score 74.81%\n"
     ]
    }
   ],
   "source": [
    "sentences = [\"My name is Emily\", \"My name is Heather\", \"My name is Yvette\", \"My name is Shaniqua\"]\n",
    "\n",
    "for sentence in sentences:\n",
    "    sentiment  = data.text_to_sentiment(sentence, network_standard, embeddings, device)\n",
    "    print(f'{sentence} --> {data.format_sentiment_score(sentiment)}')"
   ]
  },
  {
   "cell_type": "markdown",
   "metadata": {},
   "source": [
    "## Step 5: Now let's train a fair neural network using the SenSeI fair algorithm\n",
    "\n",
    "- To train a fair model with SenSeI, we need to define the distance metrics in the input and output spaces:\n",
    "    - In the input space, we define `distance_x` to be the `SVDSensitiveSubspaceDistance` metric, which given a list of names will learn to ignore this sensitive subspace\n",
    "    - In the output space, we define `distance_y` to be the Eucliden distance between data points\n",
    "- For the fair algorithm, we use the SenSeI algorithm"
   ]
  },
  {
   "cell_type": "code",
   "execution_count": 14,
   "metadata": {},
   "outputs": [],
   "source": [
    "network_fair = Model().to(device)\n",
    "optimizer = torch.optim.Adam(network_fair.parameters(), lr=1e-3)\n",
    "lossfn = F.cross_entropy\n",
    "\n",
    "distance_x = distances.SVDSensitiveSubspaceDistance()\n",
    "distance_y = distances.EuclideanDistance()"
   ]
  },
  {
   "cell_type": "code",
   "execution_count": 15,
   "metadata": {},
   "outputs": [
    {
     "data": {
      "text/plain": [
       "EuclideanDistance()"
      ]
     },
     "execution_count": 15,
     "metadata": {},
     "output_type": "execute_result"
    }
   ],
   "source": [
    "distance_x.fit(X_train=nyc_names_embed, n_components=50)\n",
    "distance_y.fit()\n",
    "\n",
    "distance_x.to(device)\n",
    "distance_y.to(device)"
   ]
  },
  {
   "cell_type": "code",
   "execution_count": 16,
   "metadata": {},
   "outputs": [],
   "source": [
    "rho = 5.0\n",
    "eps = 0.1\n",
    "auditor_nsteps = 25\n",
    "auditor_lr = 0.1\n",
    "\n",
    "fairalgo = SenSeI(network_fair, distance_x, distance_y, lossfn, rho, eps, auditor_nsteps, auditor_lr)"
   ]
  },
  {
   "cell_type": "markdown",
   "metadata": {},
   "source": [
    "#### Having defined the fair algorithm, we use the fairalgo object to train the model. The only change here is to use the `fairalgo` object to do the forward and backward pass. The rest of the training loop remains the same"
   ]
  },
  {
   "cell_type": "code",
   "execution_count": 17,
   "metadata": {},
   "outputs": [
    {
     "data": {
      "application/vnd.jupyter.widget-view+json": {
       "model_id": "efe04bcd878c45cf91a5e811f3bcf5e2",
       "version_major": 2,
       "version_minor": 0
      },
      "text/plain": [
       "  0%|          | 0/50 [00:00<?, ?it/s]"
      ]
     },
     "metadata": {},
     "output_type": "display_data"
    }
   ],
   "source": [
    "fairalgo.train()\n",
    "\n",
    "EPOCHS = 50\n",
    "\n",
    "for epoch in tqdm(range(EPOCHS)):\n",
    "    for x, y in train_dl:\n",
    "        x, y = x.to(device), y.to(device)\n",
    "        optimizer.zero_grad()\n",
    "        result = fairalgo(x, y)\n",
    "        result.loss.backward()\n",
    "        optimizer.step()"
   ]
  },
  {
   "cell_type": "code",
   "execution_count": 18,
   "metadata": {},
   "outputs": [
    {
     "name": "stdout",
     "output_type": "stream",
     "text": [
      "Accuracy: 92.91101055806938\n"
     ]
    }
   ],
   "source": [
    "# Evaluate the model accuracy\n",
    "\n",
    "fairalgo.eval()\n",
    "\n",
    "corr, total = 0, 0\n",
    "\n",
    "for x, y in test_dl:\n",
    "    x, y = x.to(device), y.to(device)\n",
    "    result = fairalgo(x)\n",
    "    y_pred = result.y_pred\n",
    "    y_pred = torch.argmax(y_pred, dim=-1)\n",
    "\n",
    "    total += y.shape[0]\n",
    "    corr += (y == y_pred).sum().cpu().numpy()\n",
    "\n",
    "acc = corr * 100.0/float(total)\n",
    "print(f'Accuracy: {acc}')"
   ]
  },
  {
   "cell_type": "markdown",
   "metadata": {},
   "source": [
    "#### The individually fair sentiment classifier network also achieves ~94% accuracy, which is comparable to the model trained in a standard manner.\n",
    "#### Similar to the analysis we did for the previous model, we study the individually fair model performance for variations between genders and races"
   ]
  },
  {
   "cell_type": "code",
   "execution_count": 19,
   "metadata": {},
   "outputs": [
    {
     "name": "stdout",
     "output_type": "stream",
     "text": [
      "============================== Baseline ==============================\n",
      "baseline test accuracy 93.820000\n",
      "baseline Black mean sentiment is 0.350054\n",
      "baseline White mean sentiment is 0.832151\n",
      "baseline race mean sentiment difference is 0.482097\n",
      "\n",
      "baseline Female mean sentiment is 0.728495\n",
      "baseline Male mean sentiment is 0.479522\n",
      "baseline gender mean sentiment difference is 0.248973\n",
      "\n"
     ]
    },
    {
     "data": {
      "image/png": "[encoded data removed]",
      "text/plain": [
       "<Figure size 864x432 with 2 Axes>"
      ]
     },
     "metadata": {
      "needs_background": "light"
     },
     "output_type": "display_data"
    },
    {
     "name": "stdout",
     "output_type": "stream",
     "text": [
      "============================== IF model ==============================\n",
      "SenSei test accuracy 92.911011\n",
      "SenSei Black mean sentiment is 0.312761\n",
      "SenSei White mean sentiment is 0.424961\n",
      "SenSei race mean sentiment difference is 0.112200\n",
      "\n",
      "SenSei Female mean sentiment is 0.415163\n",
      "SenSei Male mean sentiment is 0.329164\n",
      "SenSei gender mean sentiment difference is 0.085999\n",
      "\n"
     ]
    },
    {
     "data": {
      "image/png": "[encoded data removed]",
      "text/plain": [
       "<Figure size 864x432 with 2 Axes>"
      ]
     },
     "metadata": {
      "needs_background": "light"
     },
     "output_type": "display_data"
    }
   ],
   "source": [
    "test_names_embed_torch = torch.FloatTensor(test_names_embed).to(device)\n",
    "\n",
    "test_logits = network_fair(test_names_embed_torch)\n",
    "test_logits = F.softmax(test_logits, dim=-1)\n",
    "test_logits = test_logits.data.cpu().numpy()\n",
    "\n",
    "test_df['SenSei_logits'] = test_logits[:, 1]# - test_logits[:, 0]\n",
    "\n",
    "print('='*30 + ' Baseline ' + '='*30)\n",
    "data.print_summary(test_df, 'baseline', 93.82)\n",
    "\n",
    "print('='*30 + ' IF model ' + '='*30)\n",
    "data.print_summary(test_df, 'SenSei', acc)"
   ]
  },
  {
   "cell_type": "markdown",
   "metadata": {},
   "source": [
    "#### Similar to our investigation above, let's look at how the individually fair model performs for sentences with cuisines and names."
   ]
  },
  {
   "cell_type": "code",
   "execution_count": 20,
   "metadata": {},
   "outputs": [
    {
     "data": {
      "text/html": [
       "<div>\n",
       "<style scoped>\n",
       "    .dataframe tbody tr th:only-of-type {\n",
       "        vertical-align: middle;\n",
       "    }\n",
       "\n",
       "    .dataframe tbody tr th {\n",
       "        vertical-align: top;\n",
       "    }\n",
       "\n",
       "    .dataframe thead th {\n",
       "        text-align: right;\n",
       "    }\n",
       "</style>\n",
       "<table border=\"1\" class=\"dataframe\">\n",
       "  <thead>\n",
       "    <tr style=\"text-align: right;\">\n",
       "      <th></th>\n",
       "      <th>Sentence</th>\n",
       "      <th>Standard model</th>\n",
       "      <th>IF model</th>\n",
       "    </tr>\n",
       "  </thead>\n",
       "  <tbody>\n",
       "    <tr>\n",
       "      <th>0</th>\n",
       "      <td>Let's go get Italian food</td>\n",
       "      <td>Positive with score 99.86%</td>\n",
       "      <td>Positive with score 69.51%</td>\n",
       "    </tr>\n",
       "    <tr>\n",
       "      <th>1</th>\n",
       "      <td>Let's go get Chinese food</td>\n",
       "      <td>Positive with score 98.78%</td>\n",
       "      <td>Positive with score 58.66%</td>\n",
       "    </tr>\n",
       "    <tr>\n",
       "      <th>2</th>\n",
       "      <td>Let's go get Mexican food</td>\n",
       "      <td>Positive with score 91.20%</td>\n",
       "      <td>Positive with score 58.24%</td>\n",
       "    </tr>\n",
       "  </tbody>\n",
       "</table>\n",
       "</div>"
      ],
      "text/plain": [
       "                    Sentence              Standard model  \\\n",
       "0  Let's go get Italian food  Positive with score 99.86%   \n",
       "1  Let's go get Chinese food  Positive with score 98.78%   \n",
       "2  Let's go get Mexican food  Positive with score 91.20%   \n",
       "\n",
       "                     IF model  \n",
       "0  Positive with score 69.51%  \n",
       "1  Positive with score 58.66%  \n",
       "2  Positive with score 58.24%  "
      ]
     },
     "execution_count": 20,
     "metadata": {},
     "output_type": "execute_result"
    }
   ],
   "source": [
    "sentences = [\"Let's go get Italian food\", \"Let's go get Chinese food\", \"Let's go get Mexican food\"]\n",
    "datadf = []\n",
    "\n",
    "for sentence in sentences:\n",
    "    unfairmodel_sentiment = data.text_to_sentiment(sentence, network_standard, embeddings, device)\n",
    "    fairmodel_sentiment  = data.text_to_sentiment(sentence, network_fair, embeddings, device)\n",
    "    datadf.append((sentence, data.format_sentiment_score(unfairmodel_sentiment), data.format_sentiment_score(fairmodel_sentiment)))\n",
    "\n",
    "df = pd.DataFrame(datadf, columns=['Sentence', 'Standard model', 'IF model'])\n",
    "df"
   ]
  },
  {
   "cell_type": "code",
   "execution_count": 21,
   "metadata": {},
   "outputs": [
    {
     "data": {
      "text/html": [
       "<div>\n",
       "<style scoped>\n",
       "    .dataframe tbody tr th:only-of-type {\n",
       "        vertical-align: middle;\n",
       "    }\n",
       "\n",
       "    .dataframe tbody tr th {\n",
       "        vertical-align: top;\n",
       "    }\n",
       "\n",
       "    .dataframe thead th {\n",
       "        text-align: right;\n",
       "    }\n",
       "</style>\n",
       "<table border=\"1\" class=\"dataframe\">\n",
       "  <thead>\n",
       "    <tr style=\"text-align: right;\">\n",
       "      <th></th>\n",
       "      <th>Sentence</th>\n",
       "      <th>Standard model</th>\n",
       "      <th>IF model</th>\n",
       "    </tr>\n",
       "  </thead>\n",
       "  <tbody>\n",
       "    <tr>\n",
       "      <th>0</th>\n",
       "      <td>My name is Emily</td>\n",
       "      <td>Positive with score 99.74%</td>\n",
       "      <td>Positive with score 65.25%</td>\n",
       "    </tr>\n",
       "    <tr>\n",
       "      <th>1</th>\n",
       "      <td>My name is Heather</td>\n",
       "      <td>Positive with score 99.61%</td>\n",
       "      <td>Positive with score 63.26%</td>\n",
       "    </tr>\n",
       "    <tr>\n",
       "      <th>2</th>\n",
       "      <td>My name is Yvette</td>\n",
       "      <td>Positive with score 97.40%</td>\n",
       "      <td>Positive with score 67.52%</td>\n",
       "    </tr>\n",
       "    <tr>\n",
       "      <th>3</th>\n",
       "      <td>My name is Werner</td>\n",
       "      <td>Positive with score 94.30%</td>\n",
       "      <td>Positive with score 60.28%</td>\n",
       "    </tr>\n",
       "  </tbody>\n",
       "</table>\n",
       "</div>"
      ],
      "text/plain": [
       "             Sentence              Standard model                    IF model\n",
       "0    My name is Emily  Positive with score 99.74%  Positive with score 65.25%\n",
       "1  My name is Heather  Positive with score 99.61%  Positive with score 63.26%\n",
       "2   My name is Yvette  Positive with score 97.40%  Positive with score 67.52%\n",
       "3   My name is Werner  Positive with score 94.30%  Positive with score 60.28%"
      ]
     },
     "execution_count": 21,
     "metadata": {},
     "output_type": "execute_result"
    }
   ],
   "source": [
    "sentences = [\"My name is Emily\", \"My name is Heather\", \"My name is Yvette\", \"My name is Werner\"]\n",
    "datadf =  []\n",
    "\n",
    "for sentence in sentences:\n",
    "    unfairmodel_sentiment = data.text_to_sentiment(sentence, network_standard, embeddings, device)\n",
    "    fairmodel_sentiment  = data.text_to_sentiment(sentence, network_fair, embeddings, device)\n",
    "    datadf.append((sentence, data.format_sentiment_score(unfairmodel_sentiment), data.format_sentiment_score(fairmodel_sentiment)))\n",
    "\n",
    "df = pd.DataFrame(datadf, columns=['Sentence', 'Standard model', 'IF model'])\n",
    "df"
   ]
  },
  {
   "cell_type": "markdown",
   "metadata": {},
   "source": [
    "#### Here, we see that the model trained using the individually fair algo SenSeI performs more equitably on different races and genders, while also preserving the overall accuracy of the system."
   ]
  },
  {
   "cell_type": "markdown",
   "metadata": {},
   "source": [
    "#### We can now audit the two models and check for this individual fairness compliance using the auditor in inFairness package"
   ]
  },
  {
   "cell_type": "code",
   "execution_count": 24,
   "metadata": {},
   "outputs": [
    {
     "name": "stdout",
     "output_type": "stream",
     "text": [
      "====================================================================================================\n",
      "Loss ratio (Standard model) : 20.283565143073865. Is model fair: False\n",
      "Loss ratio (fair model) : 1.10591250515972. Is model fair: True\n",
      "----------------------------------------------------------------------------------------------------\n",
      "\t As signified by these numbers, the fair model is detected to be fairer than the standard model\n",
      "====================================================================================================\n"
     ]
    }
   ],
   "source": [
    "# Auditing using the SenSR Auditor\n",
    "\n",
    "audit_nsteps = 500\n",
    "audit_lr = 0.1\n",
    "X_audit = torch.Tensor(X_test, device=device)\n",
    "y_audit = torch.Tensor(y_test, device=device).type(torch.long)\n",
    "\n",
    "auditor = SenSRAuditor(loss_fn=lossfn, distance_x=distance_x, num_steps=audit_nsteps, lr=audit_lr)\n",
    "\n",
    "audit_result_stdmodel = auditor.audit(network_standard, X_audit, y_audit, audit_threshold=1.15)\n",
    "audit_result_fairmodel = auditor.audit(network_fair, X_audit, y_audit, audit_threshold=1.15)\n",
    "\n",
    "print(\"=\"*100)\n",
    "print(f\"Loss ratio (Standard model) : {audit_result_stdmodel.lower_bound}. Is model fair: {audit_result_stdmodel.is_model_fair}\")\n",
    "print(f\"Loss ratio (fair model) : {audit_result_fairmodel.lower_bound}. Is model fair: {audit_result_fairmodel.is_model_fair}\")\n",
    "print(\"-\"*100)\n",
    "print(\"\\t As signified by these numbers, the fair model is detected to be fairer than the standard model\")\n",
    "print(\"=\"*100)"
   ]
  },
  {
   "cell_type": "code",
   "execution_count": null,
   "metadata": {},
   "outputs": [],
   "source": []
  }
 ],
 "metadata": {
  "interpreter": {
   "hash": "1ff634e5a2199fb3fbd063cbcb535063e93d355be71aa4c5535f7c54643d696f"
  },
  "kernelspec": {
   "display_name": "Python 3.8.13 ('infairness_notebook')",
   "language": "python",
   "name": "python3"
  },
  "language_info": {
   "codemirror_mode": {
    "name": "ipython",
    "version": 3
   },
   "file_extension": ".py",
   "mimetype": "text/x-python",
   "name": "python",
   "nbconvert_exporter": "python",
   "pygments_lexer": "ipython3",
   "version": "3.8.13"
  }
 },
 "nbformat": 4,
 "nbformat_minor": 4
}
