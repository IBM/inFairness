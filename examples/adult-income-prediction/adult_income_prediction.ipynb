{
 "cells": [
  {
   "cell_type": "code",
   "execution_count": 1,
   "metadata": {},
   "outputs": [],
   "source": [
    "# uncomment and install dependencies before continuing\n",
    "# !pip install --upgrade inFairness requests tqdm"
   ]
  },
  {
   "cell_type": "code",
   "execution_count": 2,
   "metadata": {},
   "outputs": [
    {
     "name": "stderr",
     "output_type": "stream",
     "text": [
      "/Users/mayank.agarwal@ibm.com/anaconda3/envs/infairness_notebook/lib/python3.8/site-packages/tqdm/auto.py:22: TqdmWarning: IProgress not found. Please update jupyter and ipywidgets. See https://ipywidgets.readthedocs.io/en/stable/user_install.html\n",
      "  from .autonotebook import tqdm as notebook_tqdm\n"
     ]
    }
   ],
   "source": [
    "import torch\n",
    "import torch.nn as nn\n",
    "import torch.nn.functional as F\n",
    "\n",
    "from torch.utils.data import Dataset\n",
    "from torch.utils.data import DataLoader\n",
    "from tqdm.auto import tqdm\n",
    "\n",
    "from inFairness.fairalgo import SenSeI\n",
    "from inFairness import distances\n",
    "from inFairness.auditor import SenSRAuditor, SenSeIAuditor\n",
    "\n",
    "%load_ext autoreload\n",
    "%autoreload 2\n",
    "\n",
    "import data\n",
    "import metrics"
   ]
  },
  {
   "cell_type": "code",
   "execution_count": 3,
   "metadata": {},
   "outputs": [],
   "source": [
    "class AdultDataset(Dataset):\n",
    "    def __init__(self, data, labels):\n",
    "        self.data = data\n",
    "        self.labels = labels\n",
    "\n",
    "    def __getitem__(self, idx):\n",
    "        data = self.data[idx]\n",
    "        label = self.labels[idx]\n",
    "        return data, label\n",
    "    \n",
    "    def __len__(self):\n",
    "        return len(self.labels)"
   ]
  },
  {
   "cell_type": "code",
   "execution_count": 4,
   "metadata": {},
   "outputs": [
    {
     "data": {
      "text/html": [
       "<div>\n",
       "<style scoped>\n",
       "    .dataframe tbody tr th:only-of-type {\n",
       "        vertical-align: middle;\n",
       "    }\n",
       "\n",
       "    .dataframe tbody tr th {\n",
       "        vertical-align: top;\n",
       "    }\n",
       "\n",
       "    .dataframe thead th {\n",
       "        text-align: right;\n",
       "    }\n",
       "</style>\n",
       "<table border=\"1\" class=\"dataframe\">\n",
       "  <thead>\n",
       "    <tr style=\"text-align: right;\">\n",
       "      <th></th>\n",
       "      <th>age</th>\n",
       "      <th>capital-gain</th>\n",
       "      <th>capital-loss</th>\n",
       "      <th>education-num</th>\n",
       "      <th>hours-per-week</th>\n",
       "      <th>marital-status_Divorced</th>\n",
       "      <th>marital-status_Married-AF-spouse</th>\n",
       "      <th>marital-status_Married-civ-spouse</th>\n",
       "      <th>marital-status_Married-spouse-absent</th>\n",
       "      <th>marital-status_Never-married</th>\n",
       "      <th>...</th>\n",
       "      <th>relationship_Unmarried</th>\n",
       "      <th>relationship_Wife</th>\n",
       "      <th>sex_Male</th>\n",
       "      <th>workclass_Federal-gov</th>\n",
       "      <th>workclass_Local-gov</th>\n",
       "      <th>workclass_Private</th>\n",
       "      <th>workclass_Self-emp-inc</th>\n",
       "      <th>workclass_Self-emp-not-inc</th>\n",
       "      <th>workclass_State-gov</th>\n",
       "      <th>workclass_Without-pay</th>\n",
       "    </tr>\n",
       "  </thead>\n",
       "  <tbody>\n",
       "    <tr>\n",
       "      <th>0</th>\n",
       "      <td>0.409331</td>\n",
       "      <td>-0.14652</td>\n",
       "      <td>-0.218253</td>\n",
       "      <td>-1.613806</td>\n",
       "      <td>-0.496770</td>\n",
       "      <td>0</td>\n",
       "      <td>0</td>\n",
       "      <td>0</td>\n",
       "      <td>0</td>\n",
       "      <td>1</td>\n",
       "      <td>...</td>\n",
       "      <td>1</td>\n",
       "      <td>0</td>\n",
       "      <td>0</td>\n",
       "      <td>0</td>\n",
       "      <td>0</td>\n",
       "      <td>1</td>\n",
       "      <td>0</td>\n",
       "      <td>0</td>\n",
       "      <td>0</td>\n",
       "      <td>0</td>\n",
       "    </tr>\n",
       "    <tr>\n",
       "      <th>1</th>\n",
       "      <td>-1.104187</td>\n",
       "      <td>-0.14652</td>\n",
       "      <td>-0.218253</td>\n",
       "      <td>-0.050064</td>\n",
       "      <td>-1.741764</td>\n",
       "      <td>0</td>\n",
       "      <td>0</td>\n",
       "      <td>0</td>\n",
       "      <td>0</td>\n",
       "      <td>1</td>\n",
       "      <td>...</td>\n",
       "      <td>0</td>\n",
       "      <td>0</td>\n",
       "      <td>0</td>\n",
       "      <td>0</td>\n",
       "      <td>0</td>\n",
       "      <td>1</td>\n",
       "      <td>0</td>\n",
       "      <td>0</td>\n",
       "      <td>0</td>\n",
       "      <td>0</td>\n",
       "    </tr>\n",
       "    <tr>\n",
       "      <th>2</th>\n",
       "      <td>1.393118</td>\n",
       "      <td>-0.14652</td>\n",
       "      <td>-0.218253</td>\n",
       "      <td>-0.440999</td>\n",
       "      <td>2.574214</td>\n",
       "      <td>0</td>\n",
       "      <td>0</td>\n",
       "      <td>1</td>\n",
       "      <td>0</td>\n",
       "      <td>0</td>\n",
       "      <td>...</td>\n",
       "      <td>0</td>\n",
       "      <td>0</td>\n",
       "      <td>1</td>\n",
       "      <td>0</td>\n",
       "      <td>1</td>\n",
       "      <td>0</td>\n",
       "      <td>0</td>\n",
       "      <td>0</td>\n",
       "      <td>0</td>\n",
       "      <td>0</td>\n",
       "    </tr>\n",
       "    <tr>\n",
       "      <th>3</th>\n",
       "      <td>-0.423104</td>\n",
       "      <td>-0.14652</td>\n",
       "      <td>-0.218253</td>\n",
       "      <td>-0.440999</td>\n",
       "      <td>1.163221</td>\n",
       "      <td>0</td>\n",
       "      <td>0</td>\n",
       "      <td>1</td>\n",
       "      <td>0</td>\n",
       "      <td>0</td>\n",
       "      <td>...</td>\n",
       "      <td>0</td>\n",
       "      <td>0</td>\n",
       "      <td>1</td>\n",
       "      <td>0</td>\n",
       "      <td>0</td>\n",
       "      <td>1</td>\n",
       "      <td>0</td>\n",
       "      <td>0</td>\n",
       "      <td>0</td>\n",
       "      <td>0</td>\n",
       "    </tr>\n",
       "    <tr>\n",
       "      <th>4</th>\n",
       "      <td>-0.877159</td>\n",
       "      <td>-0.14652</td>\n",
       "      <td>-0.218253</td>\n",
       "      <td>1.122743</td>\n",
       "      <td>0.748224</td>\n",
       "      <td>0</td>\n",
       "      <td>0</td>\n",
       "      <td>1</td>\n",
       "      <td>0</td>\n",
       "      <td>0</td>\n",
       "      <td>...</td>\n",
       "      <td>0</td>\n",
       "      <td>0</td>\n",
       "      <td>1</td>\n",
       "      <td>0</td>\n",
       "      <td>0</td>\n",
       "      <td>0</td>\n",
       "      <td>0</td>\n",
       "      <td>1</td>\n",
       "      <td>0</td>\n",
       "      <td>0</td>\n",
       "    </tr>\n",
       "  </tbody>\n",
       "</table>\n",
       "<p>5 rows × 41 columns</p>\n",
       "</div>"
      ],
      "text/plain": [
       "        age  capital-gain  capital-loss  education-num  hours-per-week  \\\n",
       "0  0.409331      -0.14652     -0.218253      -1.613806       -0.496770   \n",
       "1 -1.104187      -0.14652     -0.218253      -0.050064       -1.741764   \n",
       "2  1.393118      -0.14652     -0.218253      -0.440999        2.574214   \n",
       "3 -0.423104      -0.14652     -0.218253      -0.440999        1.163221   \n",
       "4 -0.877159      -0.14652     -0.218253       1.122743        0.748224   \n",
       "\n",
       "   marital-status_Divorced  marital-status_Married-AF-spouse  \\\n",
       "0                        0                                 0   \n",
       "1                        0                                 0   \n",
       "2                        0                                 0   \n",
       "3                        0                                 0   \n",
       "4                        0                                 0   \n",
       "\n",
       "   marital-status_Married-civ-spouse  marital-status_Married-spouse-absent  \\\n",
       "0                                  0                                     0   \n",
       "1                                  0                                     0   \n",
       "2                                  1                                     0   \n",
       "3                                  1                                     0   \n",
       "4                                  1                                     0   \n",
       "\n",
       "   marital-status_Never-married  ...  relationship_Unmarried  \\\n",
       "0                             1  ...                       1   \n",
       "1                             1  ...                       0   \n",
       "2                             0  ...                       0   \n",
       "3                             0  ...                       0   \n",
       "4                             0  ...                       0   \n",
       "\n",
       "   relationship_Wife  sex_Male  workclass_Federal-gov  workclass_Local-gov  \\\n",
       "0                  0         0                      0                    0   \n",
       "1                  0         0                      0                    0   \n",
       "2                  0         1                      0                    1   \n",
       "3                  0         1                      0                    0   \n",
       "4                  0         1                      0                    0   \n",
       "\n",
       "   workclass_Private  workclass_Self-emp-inc  workclass_Self-emp-not-inc  \\\n",
       "0                  1                       0                           0   \n",
       "1                  1                       0                           0   \n",
       "2                  0                       0                           0   \n",
       "3                  1                       0                           0   \n",
       "4                  0                       0                           1   \n",
       "\n",
       "   workclass_State-gov  workclass_Without-pay  \n",
       "0                    0                      0  \n",
       "1                    0                      0  \n",
       "2                    0                      0  \n",
       "3                    0                      0  \n",
       "4                    0                      0  \n",
       "\n",
       "[5 rows x 41 columns]"
      ]
     },
     "execution_count": 4,
     "metadata": {},
     "output_type": "execute_result"
    }
   ],
   "source": [
    "train_df, test_df = data.load_data()\n",
    "\n",
    "X_train_df, Y_train_df = train_df\n",
    "X_test_df, Y_test_df = test_df\n",
    "\n",
    "# Create test data with spouse variable flipped\n",
    "X_test_df_spouse_flipped = X_test_df.copy()\n",
    "X_test_df_spouse_flipped.relationship_Wife = 1 - X_test_df_spouse_flipped.relationship_Wife\n",
    "\n",
    "X_train_df.head()"
   ]
  },
  {
   "cell_type": "code",
   "execution_count": 5,
   "metadata": {},
   "outputs": [],
   "source": [
    "device = torch.device('cpu')\n",
    "\n",
    "protected_vars = ['race_White', 'sex_Male']\n",
    "protected_idxs = [X_train_df.columns.get_loc(var) for var in protected_vars]\n",
    "\n",
    "X_train, y_train = data.convert_df_to_tensor(X_train_df, Y_train_df)\n",
    "X_test, y_test = data.convert_df_to_tensor(X_test_df, Y_test_df)\n",
    "X_test_flip, y_test_flip = data.convert_df_to_tensor(X_test_df_spouse_flipped, Y_test_df)\n",
    "\n",
    "# Create the training and testing dataset\n",
    "train_ds = AdultDataset(X_train, y_train)\n",
    "test_ds = AdultDataset(X_test, y_test)\n",
    "test_ds_flip = AdultDataset(X_test_flip, y_test_flip)\n",
    "\n",
    "# Create train and test dataloaders\n",
    "train_dl = DataLoader(train_ds, batch_size=64, shuffle=True)\n",
    "test_dl = DataLoader(test_ds, batch_size=1000, shuffle=False)\n",
    "test_dl_flip = DataLoader(test_ds_flip, batch_size=1000, shuffle=False)"
   ]
  },
  {
   "cell_type": "code",
   "execution_count": 6,
   "metadata": {},
   "outputs": [],
   "source": [
    "# Create a fully connected neural network\n",
    "\n",
    "class Model(nn.Module):\n",
    "\n",
    "    def __init__(self, input_size, output_size):\n",
    "\n",
    "        super().__init__()\n",
    "        self.fc1 = nn.Linear(input_size, 100)\n",
    "        self.fc2 = nn.Linear(100, 100)\n",
    "        self.fcout = nn.Linear(100, output_size)\n",
    "\n",
    "    def forward(self, x):\n",
    "\n",
    "        x = F.relu(self.fc1(x))\n",
    "        x = F.relu(self.fc2(x))\n",
    "        x = self.fcout(x)\n",
    "        return x"
   ]
  },
  {
   "cell_type": "markdown",
   "metadata": {},
   "source": [
    "### Standard training"
   ]
  },
  {
   "cell_type": "code",
   "execution_count": 7,
   "metadata": {},
   "outputs": [],
   "source": [
    "input_size = X_train.shape[1]\n",
    "output_size = 2\n",
    "\n",
    "network_standard = Model(input_size, output_size).to(device)\n",
    "optimizer = torch.optim.Adam(network_standard.parameters(), lr=1e-3)\n",
    "loss_fn = F.cross_entropy\n",
    "\n",
    "EPOCHS = 10"
   ]
  },
  {
   "cell_type": "code",
   "execution_count": 8,
   "metadata": {},
   "outputs": [
    {
     "name": "stderr",
     "output_type": "stream",
     "text": [
      "100%|██████████| 10/10 [00:08<00:00,  1.20it/s]\n"
     ]
    }
   ],
   "source": [
    "network_standard.train()\n",
    "\n",
    "for epoch in tqdm(range(EPOCHS)):\n",
    "\n",
    "    for x, y in train_dl:\n",
    "\n",
    "        x, y = x.to(device), y.to(device)\n",
    "        optimizer.zero_grad()\n",
    "        y_pred = network_standard(x).squeeze()\n",
    "        loss = loss_fn(y_pred, y)\n",
    "        loss.backward()\n",
    "        optimizer.step()"
   ]
  },
  {
   "cell_type": "code",
   "execution_count": 9,
   "metadata": {},
   "outputs": [
    {
     "name": "stdout",
     "output_type": "stream",
     "text": [
      "Accuracy: 0.855373740196228\n",
      "Balanced accuracy: 0.7758295636205936\n",
      "Spouse consistency: 0.9483635559486953\n"
     ]
    }
   ],
   "source": [
    "accuracy = metrics.accuracy(network_standard, test_dl, device)\n",
    "balanced_acc = metrics.balanced_accuracy(network_standard, test_dl, device)\n",
    "spouse_consistency = metrics.spouse_consistency(network_standard, test_dl, test_dl_flip, device)\n",
    "\n",
    "print(f'Accuracy: {accuracy}')\n",
    "print(f'Balanced accuracy: {balanced_acc}')\n",
    "print(f'Spouse consistency: {spouse_consistency}')"
   ]
  },
  {
   "cell_type": "markdown",
   "metadata": {},
   "source": [
    "### Individually fair training"
   ]
  },
  {
   "cell_type": "code",
   "execution_count": 10,
   "metadata": {},
   "outputs": [],
   "source": [
    "network_fair = Model(input_size, output_size).to(device)\n",
    "optimizer = torch.optim.Adam(network_fair.parameters(), lr=1e-3)\n",
    "lossfn = F.cross_entropy\n",
    "\n",
    "distance_x = distances.LogisticRegSensitiveSubspace()\n",
    "distance_y = distances.SquaredEuclideanDistance()\n",
    "\n",
    "distance_x.fit(X_train, protected_idxs=protected_idxs)\n",
    "distance_y.fit(num_dims=output_size)\n",
    "\n",
    "distance_x.to(device)\n",
    "distance_y.to(device)"
   ]
  },
  {
   "cell_type": "code",
   "execution_count": 11,
   "metadata": {},
   "outputs": [],
   "source": [
    "rho = 5.0\n",
    "eps = 0.1\n",
    "auditor_nsteps = 100\n",
    "auditor_lr = 1e-3\n",
    "\n",
    "fairalgo = SenSeI(network_fair, distance_x, distance_y, lossfn, rho, eps, auditor_nsteps, auditor_lr)"
   ]
  },
  {
   "cell_type": "code",
   "execution_count": 12,
   "metadata": {},
   "outputs": [
    {
     "name": "stderr",
     "output_type": "stream",
     "text": [
      "100%|██████████| 10/10 [08:18<00:00, 49.90s/it]\n"
     ]
    }
   ],
   "source": [
    "fairalgo.train()\n",
    "\n",
    "for epoch in tqdm(range(EPOCHS)):\n",
    "    for x, y in train_dl:\n",
    "        x, y = x.to(device), y.to(device)\n",
    "        optimizer.zero_grad()\n",
    "        result = fairalgo(x, y)\n",
    "        result.loss.backward()\n",
    "        optimizer.step()"
   ]
  },
  {
   "cell_type": "code",
   "execution_count": 13,
   "metadata": {},
   "outputs": [
    {
     "name": "stdout",
     "output_type": "stream",
     "text": [
      "Accuracy: 0.8373507261276245\n",
      "Balanced accuracy: 0.7335829237002883\n",
      "Spouse consistency: 0.9997788589119858\n"
     ]
    }
   ],
   "source": [
    "accuracy = metrics.accuracy(network_fair, test_dl, device)\n",
    "balanced_acc = metrics.balanced_accuracy(network_fair, test_dl, device)\n",
    "spouse_consistency = metrics.spouse_consistency(network_fair, test_dl, test_dl_flip, device)\n",
    "\n",
    "print(f'Accuracy: {accuracy}')\n",
    "print(f'Balanced accuracy: {balanced_acc}')\n",
    "print(f'Spouse consistency: {spouse_consistency}')"
   ]
  },
  {
   "cell_type": "markdown",
   "metadata": {},
   "source": [
    "#### Let's now audit the two models and check for their individua fairness compliance"
   ]
  },
  {
   "cell_type": "code",
   "execution_count": 14,
   "metadata": {},
   "outputs": [
    {
     "name": "stderr",
     "output_type": "stream",
     "text": [
      "/Users/mayank.agarwal@ibm.com/anaconda3/envs/infairness_notebook/lib/python3.8/site-packages/inFairness/auditor/auditor.py:54: RuntimeWarning: invalid value encountered in true_divide\n",
      "  loss_ratio = np.divide(loss_vals_adversarial, loss_vals_original)\n"
     ]
    },
    {
     "name": "stdout",
     "output_type": "stream",
     "text": [
      "====================================================================================================\n",
      "Loss ratio (Standard model) : 2.930340963480738. Is model fair: False\n",
      "Loss ratio (fair model) : 1.045007604621082. Is model fair: True\n",
      "----------------------------------------------------------------------------------------------------\n",
      "\t As signified by these numbers, the fair model is fairer than the standard model\n",
      "====================================================================================================\n"
     ]
    }
   ],
   "source": [
    "# Auditing using the SenSR Auditor\n",
    "\n",
    "audit_nsteps = 1000\n",
    "audit_lr = 0.1\n",
    "\n",
    "auditor = SenSRAuditor(loss_fn=loss_fn, distance_x=distance_x, num_steps=audit_nsteps, lr=audit_lr, max_noise=0.5, min_noise=-0.5)\n",
    "\n",
    "audit_result_stdmodel = auditor.audit(network_standard, X_test, y_test, lambda_param=10.0, audit_threshold=1.15)\n",
    "audit_result_fairmodel = auditor.audit(network_fair, X_test, y_test, lambda_param=10.0, audit_threshold=1.15)\n",
    "\n",
    "print(\"=\"*100)\n",
    "print(f\"Loss ratio (Standard model) : {audit_result_stdmodel.lower_bound}. Is model fair: {audit_result_stdmodel.is_model_fair}\")\n",
    "print(f\"Loss ratio (fair model) : {audit_result_fairmodel.lower_bound}. Is model fair: {audit_result_fairmodel.is_model_fair}\")\n",
    "print(\"-\"*100)\n",
    "print(\"\\t As signified by these numbers, the fair model is fairer than the standard model\")\n",
    "print(\"=\"*100)"
   ]
  },
  {
   "cell_type": "code",
   "execution_count": 15,
   "metadata": {},
   "outputs": [
    {
     "name": "stdout",
     "output_type": "stream",
     "text": [
      "====================================================================================================\n",
      "Loss ratio (Standard model) : 238.7647221454322. Is model fair: False\n",
      "Loss ratio (fair model) : 1.0002661858231792. Is model fair: True\n",
      "----------------------------------------------------------------------------------------------------\n",
      "\t As signified by these numbers, the fair model is fairer than the standard model\n",
      "====================================================================================================\n"
     ]
    }
   ],
   "source": [
    "# Auditing using the SenSeI Auditor\n",
    "\n",
    "audit_nsteps = 500\n",
    "audit_lr = 0.001\n",
    "\n",
    "auditor = SenSeIAuditor(distance_x=distance_x, distance_y=distance_y, num_steps=audit_nsteps, lr=audit_lr, max_noise=0.5, min_noise=-0.5)\n",
    "\n",
    "audit_result_stdmodel = auditor.audit(network_standard, X_test, y_test, loss_fn, audit_threshold=1.15, lambda_param=50.0)\n",
    "audit_result_fairmodel = auditor.audit(network_fair, X_test, y_test, loss_fn, audit_threshold=1.15, lambda_param=50.0)\n",
    "\n",
    "print(\"=\"*100)\n",
    "print(f\"Loss ratio (Standard model) : {audit_result_stdmodel.lower_bound}. Is model fair: {audit_result_stdmodel.is_model_fair}\")\n",
    "print(f\"Loss ratio (fair model) : {audit_result_fairmodel.lower_bound}. Is model fair: {audit_result_fairmodel.is_model_fair}\")\n",
    "print(\"-\"*100)\n",
    "print(\"\\t As signified by these numbers, the fair model is fairer than the standard model\")\n",
    "print(\"=\"*100)"
   ]
  },
  {
   "cell_type": "code",
   "execution_count": null,
   "metadata": {},
   "outputs": [],
   "source": []
  }
 ],
 "metadata": {
  "interpreter": {
   "hash": "1ff634e5a2199fb3fbd063cbcb535063e93d355be71aa4c5535f7c54643d696f"
  },
  "kernelspec": {
   "display_name": "Python 3.8.13 ('infairness_notebook')",
   "language": "python",
   "name": "python3"
  },
  "language_info": {
   "codemirror_mode": {
    "name": "ipython",
    "version": 3
   },
   "file_extension": ".py",
   "mimetype": "text/x-python",
   "name": "python",
   "nbconvert_exporter": "python",
   "pygments_lexer": "ipython3",
   "version": "3.8.12"
  }
 },
 "nbformat": 4,
 "nbformat_minor": 4
}
